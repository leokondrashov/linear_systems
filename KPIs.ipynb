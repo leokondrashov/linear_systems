{
 "cells": [
  {
   "cell_type": "code",
   "execution_count": 1,
   "metadata": {},
   "outputs": [],
   "source": [
    "import pandas as pd\n",
    "import numpy as np\n",
    "from scipy import linalg\n",
    "from math import sqrt"
   ]
  },
  {
   "cell_type": "code",
   "execution_count": 2,
   "metadata": {},
   "outputs": [
    {
     "data": {
      "text/plain": [
       "array([[10.,  1.,  0., ...,  0.,  0.,  0.],\n",
       "       [ 1., 10.,  1., ...,  0.,  0.,  0.],\n",
       "       [ 0.,  1., 10., ...,  0.,  0.,  0.],\n",
       "       ...,\n",
       "       [ 0.,  0.,  0., ..., 10.,  1.,  0.],\n",
       "       [ 0.,  0.,  0., ...,  1., 10.,  1.],\n",
       "       [ 1.,  1.,  1., ...,  1.,  1.,  1.]])"
      ]
     },
     "execution_count": 2,
     "metadata": {},
     "output_type": "execute_result"
    }
   ],
   "source": [
    "A = np.zeros((100, 100))\n",
    "for i in range(0, 99):\n",
    "    A[i][i] = 10\n",
    "    A[i + 1][i] = 1\n",
    "    A[i][i + 1] = 1\n",
    "    \n",
    "for i in range(0, 100):\n",
    "    A[99][i] = 1\n",
    "\n",
    "A"
   ]
  },
  {
   "cell_type": "code",
   "execution_count": 3,
   "metadata": {},
   "outputs": [
    {
     "name": "stdout",
     "output_type": "stream",
     "text": [
      "0.8998885030048311\n",
      "12.007560699871838\n"
     ]
    }
   ],
   "source": [
    "eigens = linalg.eigvals(A)\n",
    "eigens = abs(eigens)\n",
    "l_min = min(eigens)\n",
    "l_max = max(eigens)\n",
    "print(l_min)\n",
    "print(l_max)"
   ]
  },
  {
   "cell_type": "code",
   "execution_count": 4,
   "metadata": {},
   "outputs": [
    {
     "data": {
      "text/plain": [
       "22.458341939715602"
      ]
     },
     "execution_count": 4,
     "metadata": {},
     "output_type": "execute_result"
    }
   ],
   "source": [
    "invA = np.linalg.inv(A)\n",
    "\n",
    "normA = sqrt(max(abs(np.linalg.eigvals(np.transpose(A) @ A))))\n",
    "normInvA = sqrt(max(abs(np.linalg.eigvals(np.transpose(invA) @ invA))))\n",
    "\n",
    "mu = normA * normInvA\n",
    "mu"
   ]
  }
 ],
 "metadata": {
  "kernelspec": {
   "display_name": "Python 3",
   "language": "python",
   "name": "python3"
  },
  "language_info": {
   "codemirror_mode": {
    "name": "ipython",
    "version": 3
   },
   "file_extension": ".py",
   "mimetype": "text/x-python",
   "name": "python",
   "nbconvert_exporter": "python",
   "pygments_lexer": "ipython3",
   "version": "3.7.3"
  }
 },
 "nbformat": 4,
 "nbformat_minor": 4
}
